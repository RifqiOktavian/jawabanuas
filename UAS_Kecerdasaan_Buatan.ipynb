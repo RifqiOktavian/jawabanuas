{
 "cells": [
  {
   "cell_type": "markdown",
   "metadata": {},
   "source": [
    "## Sistem Prediksi Tingkat Stres Mahasiswa"
   ]
  },
  {
   "cell_type": "code",
   "execution_count": 2,
   "metadata": {},
   "outputs": [
    {
     "name": "stdout",
     "output_type": "stream",
     "text": [
      "Kecepatan Pelayanan: 7, Kualitas Makanan: 8, Suasana Restoran: 6 -> Tingkat Kebahagiaan: SEDANG\n"
     ]
    }
   ],
   "source": [
    "import numpy as np\n",
    "\n",
    "class FuzzyHappinessPredictor:\n",
    "    def __init__(self):\n",
    "        pass\n",
    "\n",
    "    def membership_pelayanan(self, x):\n",
    "        return {\n",
    "            'LAMBAT': max(0, min((5-x)/(5-0), 1)) if x <= 5 else 0,\n",
    "            'SEDANG': max(0, min((x-3)/(7-3), (10-x)/(10-7))) if 3 <= x <= 10 else 0,\n",
    "            'CEPAT': max(0, min((x-8)/(10-8), 1)) if x >= 8 else 0\n",
    "        }\n",
    "\n",
    "    def membership_makanan(self, x):\n",
    "        return {\n",
    "            'BURUK': max(0, min((5-x)/(5-0), 1)) if x <= 5 else 0,\n",
    "            'SEDANG': max(0, min((x-3)/(7-3), (10-x)/(10-7))) if 3 <= x <= 10 else 0,\n",
    "            'BAIK': max(0, min((x-8)/(10-8), 1)) if x >= 8 else 0\n",
    "        }\n",
    "\n",
    "    def membership_suasana(self, x):\n",
    "        return {\n",
    "            'TIDAK_NYAMAN': max(0, min((5-x)/(5-0), 1)) if x <= 5 else 0,\n",
    "            'SEDANG': max(0, min((x-3)/(7-3), (10-x)/(10-7))) if 3 <= x <= 10 else 0,\n",
    "            'NYAMAN': max(0, min((x-8)/(10-8), 1)) if x >= 8 else 0\n",
    "        }\n",
    "\n",
    "    def fuzzy_rules(self, pelayanan, makanan, suasana):\n",
    "        rules = [\n",
    "            ('RENDAH', min(pelayanan['LAMBAT'], makanan['BURUK'], suasana['TIDAK_NYAMAN'])),\n",
    "            ('SEDANG', min(pelayanan['SEDANG'], makanan['SEDANG'], suasana['SEDANG'])),\n",
    "            ('TINGGI', max(pelayanan['CEPAT'], makanan['BAIK'], suasana['NYAMAN'])),\n",
    "            ('SEDANG', min(pelayanan['LAMBAT'], makanan['BAIK'], suasana['NYAMAN'])),\n",
    "            ('RENDAH', min(pelayanan['LAMBAT'], makanan['BURUK'], suasana['SEDANG']))\n",
    "        ]\n",
    "\n",
    "        happiness_levels = {'RENDAH': 0, 'SEDANG': 0, 'TINGGI': 0}\n",
    "        for level, value in rules:\n",
    "            happiness_levels[level] = max(happiness_levels[level], value)\n",
    "        return happiness_levels\n",
    "\n",
    "    def defuzzification(self, happiness_levels):\n",
    "        centers = {'RENDAH': 25, 'SEDANG': 50, 'TINGGI': 75}\n",
    "        numerator = sum(happiness_levels[level] * centers[level] for level in happiness_levels)\n",
    "        denominator = sum(happiness_levels.values())\n",
    "        return 50 if denominator == 0 else numerator / denominator\n",
    "\n",
    "    def predict_happiness(self, kecepatan_pelayanan, kualitas_makanan, suasana_restoran):\n",
    "        pelayanan_fuzzy = self.membership_pelayanan(kecepatan_pelayanan)\n",
    "        makanan_fuzzy = self.membership_makanan(kualitas_makanan)\n",
    "        suasana_fuzzy = self.membership_suasana(suasana_restoran)\n",
    "\n",
    "        happiness_levels = self.fuzzy_rules(pelayanan_fuzzy, makanan_fuzzy, suasana_fuzzy)\n",
    "        crisp_result = self.defuzzification(happiness_levels)\n",
    "\n",
    "        if crisp_result < 35:\n",
    "            return \"RENDAH\"\n",
    "        elif crisp_result < 65:\n",
    "            return \"SEDANG\"\n",
    "        else:\n",
    "            return \"TINGGI\"\n",
    "\n",
    "# Contoh penggunaan\n",
    "predictor = FuzzyHappinessPredictor()\n",
    "\n",
    "# Input spesifik\n",
    "kecepatan_pelayanan = 7\n",
    "kualitas_makanan = 8\n",
    "suasana_restoran = 6\n",
    "\n",
    "# Prediksi tingkat kebahagiaan\n",
    "tingkat_kebahagiaan = predictor.predict_happiness(kecepatan_pelayanan, kualitas_makanan, suasana_restoran)\n",
    "\n",
    "# Output\n",
    "print(f\"Kecepatan Pelayanan: {kecepatan_pelayanan}, Kualitas Makanan: {kualitas_makanan}, Suasana Restoran: {suasana_restoran} -> Tingkat Kebahagiaan: {tingkat_kebahagiaan}\")\n"
   ]
  }
 ],
 "metadata": {
  "kernelspec": {
   "display_name": "Python 3",
   "language": "python",
   "name": "python3"
  },
  "language_info": {
   "codemirror_mode": {
    "name": "ipython",
    "version": 3
   },
   "file_extension": ".py",
   "mimetype": "text/x-python",
   "name": "python",
   "nbconvert_exporter": "python",
   "pygments_lexer": "ipython3",
   "version": "3.12.5"
  }
 },
 "nbformat": 4,
 "nbformat_minor": 2
}
